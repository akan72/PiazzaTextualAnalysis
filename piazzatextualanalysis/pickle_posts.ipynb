{
 "cells": [
  {
   "cell_type": "code",
   "execution_count": 50,
   "metadata": {},
   "outputs": [],
   "source": [
    "import os\n",
    "import pandas as pd\n",
    "import pickle\n",
    "from piazza_api import Piazza"
   ]
  },
  {
   "cell_type": "code",
   "execution_count": 2,
   "metadata": {},
   "outputs": [],
   "source": [
    "# https://github.com/hfaran/piazza-api\n",
    "# Authenticate into your Piazza Account\n",
    "p = Piazza()\n",
    "p.user_login(email=os.environ['PIAZZA_EMAIL'], password=os.environ['PIAZZA_PASSWORD'])"
   ]
  },
  {
   "cell_type": "code",
   "execution_count": 34,
   "metadata": {},
   "outputs": [
    {
     "name": "stdout",
     "output_type": "stream",
     "text": [
      "[{'name': 'Computer Security Concepts', 'term': 'Fall 2019', 'num': 'COMP 435', 'nid': 'jza0etcvr986ww', 'is_ta': False}, {'name': 'Effective Peer Teaching in Computer Science', 'term': 'Fall 2019', 'num': 'COMP 227-001', 'nid': 'jzipl1rvabf7j', 'is_ta': False}, {'name': 'Learn a Command-line Interface', 'term': 'Fall 2019', 'num': 'COMP 290', 'nid': 'jzkowmv030i1ub', 'is_ta': False}, {'name': '2D Computer Graphics', 'term': 'Fall 2019', 'num': 'COMP 475', 'nid': 'jzqv4tuy7t1240', 'is_ta': False}, {'name': 'Calculus of Functions of Several Variables', 'term': 'Spring 2017', 'num': 'MATH 233', 'nid': 'iw5tgq5i54x11i', 'is_ta': False}, {'name': 'Foundations of Programming', 'term': 'Fall 2017', 'num': 'COMP 401-001', 'nid': 'j5wwaj87hvu6af', 'is_ta': False}, {'name': 'Data Structures', 'term': 'Spring 2018', 'num': 'COMP 410-001', 'nid': 'jc5dh8zpwh61cx', 'is_ta': False}, {'name': 'Advanced Web Programming', 'term': 'Fall 2018', 'num': 'COMP 426', 'nid': 'jkioterd95z4r', 'is_ta': False}, {'name': 'Intro to Machine Learning', 'term': 'Fall 2018', 'num': 'COMP 562', 'nid': 'jk62gyyv2rg2os', 'is_ta': False}, {'name': 'Comp 521', 'term': 'Fall 2018', 'num': 'COMP 521', 'nid': 'jl7ulickb5m4ju', 'is_ta': False}, {'name': 'Models of Languages and Computation', 'term': 'Fall 2018', 'num': 'COMP 455', 'nid': 'jl45oppjv4p222', 'is_ta': False}, {'name': 'Computer Organization', 'term': 'Spring 2018', 'num': 'COMP 411-001', 'nid': 'ja5rc3mktmg4qt', 'is_ta': False}]\n"
     ]
    }
   ],
   "source": [
    "# Get all of the user's classes\n",
    "user_classes = p.get_user_classes()\n",
    "print(user_classes)"
   ]
  },
  {
   "cell_type": "code",
   "execution_count": 37,
   "metadata": {},
   "outputs": [
    {
     "name": "stdout",
     "output_type": "stream",
     "text": [
      "[{'name': 'Foundations of Programming', 'term': 'Fall 2017', 'num': 'COMP 401-001', 'nid': 'j5wwaj87hvu6af', 'is_ta': False}]\n"
     ]
    }
   ],
   "source": [
    "# Add all of the user's COMP 401 sections to a list \n",
    "comp_401_sections = []\n",
    "for user_class in user_classes:\n",
    "    if '401' in user_class['num']:\n",
    "        comp_401_sections.append(user_class)\n",
    "\n",
    "print(comp_401_sections)\n",
    "\n",
    "# Get all the network IDs for the 401 sections \n",
    "nids = [section['nid'] for section in comp_401_sections]"
   ]
  },
  {
   "cell_type": "code",
   "execution_count": 52,
   "metadata": {},
   "outputs": [],
   "source": [
    "# Pickle all of the posts made for that course\n",
    "for network_id in nids:\n",
    "    course = p.network(network_id)\n",
    "    \n",
    "    # Get all users and all posts for that course\n",
    "    posts = course.iter_all_posts(limit=None)\n",
    "    \n",
    "    pickled_posts = []\n",
    "    for post in posts:\n",
    "        pickled_posts.append(post)\n",
    "        \n",
    "    # Write all of the posts to a pickle file stored in the data folder\n",
    "    with open(f\"data/posts_{network_id}.p\", 'wb') as f:\n",
    "        pickle.dump(pickled_posts, f)"
   ]
  }
 ],
 "metadata": {
  "kernelspec": {
   "display_name": "Python 3",
   "language": "python",
   "name": "python3"
  },
  "language_info": {
   "codemirror_mode": {
    "name": "ipython",
    "version": 3
   },
   "file_extension": ".py",
   "mimetype": "text/x-python",
   "name": "python",
   "nbconvert_exporter": "python",
   "pygments_lexer": "ipython3",
   "version": "3.7.4"
  }
 },
 "nbformat": 4,
 "nbformat_minor": 2
}
