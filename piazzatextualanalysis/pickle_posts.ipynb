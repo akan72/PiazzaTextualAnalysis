{
 "cells": [
  {
   "cell_type": "code",
<<<<<<< HEAD
   "execution_count": 1,
=======
   "execution_count": null,
   "metadata": {},
   "outputs": [],
   "source": []
  },
  {
   "cell_type": "code",
   "execution_count": 17,
>>>>>>> initial commit for merge
   "metadata": {},
   "outputs": [],
   "source": [
    "import os\n",
    "import pandas as pd\n",
    "import pickle\n",
<<<<<<< HEAD
=======
    "from time import sleep\n",
>>>>>>> initial commit for merge
    "from piazza_api import Piazza"
   ]
  },
  {
   "cell_type": "code",
   "execution_count": 2,
   "metadata": {},
   "outputs": [],
   "source": [
    "# https://github.com/hfaran/piazza-api\n",
    "# Authenticate into your Piazza Account\n",
    "p = Piazza()\n",
    "p.user_login(email=os.environ['PIAZZA_EMAIL'], password=os.environ['PIAZZA_PASSWORD'])"
   ]
  },
  {
   "cell_type": "code",
   "execution_count": 3,
   "metadata": {},
   "outputs": [],
   "source": [
    "# Get all of the user's classes\n",
    "user_classes = p.get_user_classes()"
   ]
  },
  {
   "cell_type": "code",
<<<<<<< HEAD
   "execution_count": 4,
=======
   "execution_count": 6,
>>>>>>> initial commit for merge
   "metadata": {},
   "outputs": [],
   "source": [
    "# Add all of the user's COMP 401 sections to a list \n",
    "comp_401_sections = []\n",
    "for user_class in user_classes:\n",
    "    if '401' in user_class['num']:\n",
    "        comp_401_sections.append(user_class)\n",
    "\n",
    "# print(comp_401_sections)\n",
    "\n",
    "# Get all the network IDs for the 401 sections \n",
    "nids = [section['nid'] for section in comp_401_sections]"
   ]
  },
  {
   "cell_type": "code",
<<<<<<< HEAD
   "execution_count": 5,
   "metadata": {},
   "outputs": [],
   "source": [
    "# Pickle all of the posts made for that course\n",
    "for network_id in nids:\n",
    "    course = p.network(network_id)\n",
    "    \n",
    "    # Get all users and all posts for that course\n",
    "    posts = course.iter_all_posts(limit=None)\n",
    "    \n",
    "    pickled_posts = []\n",
    "    for post in posts:\n",
    "        pickled_posts.append(post)\n",
    "        \n",
    "    # Write all of the posts to a pickle file stored in the data folder\n",
    "    with open(f\"data/posts/{os.environ['PIAZZA_EMAIL']}_posts_{network_id}.p\", 'wb') as f:\n",
    "        pickle.dump(pickled_posts, f)"
=======
   "execution_count": 26,
   "metadata": {},
   "outputs": [
    {
     "name": "stdout",
     "output_type": "stream",
     "text": [
      "yikes: 183\n"
     ]
    }
   ],
   "source": [
    "# Pickle all of the posts made for that course\n",
    "#for network_id in nids:\n",
    "course = p.network(nids[1])\n",
    "\n",
    "# Get all users and all posts for that course\n",
    "posts = course.iter_all_posts(limit=None)\n",
    "count=0\n",
    "\n",
    "pickled_posts = []\n",
    "try:\n",
    "    for post in posts:\n",
    "        sleep(0.5)\n",
    "        count += 1\n",
    "        pickled_posts.append(post)\n",
    "except:\n",
    "    print(f'yikes: {count}')\n",
    "    pass    \n",
    "# Write all of the posts to a pickle file stored in the data folder\n",
    "with open(f\"data/posts/{os.environ['PIAZZA_EMAIL']}_posts_{network_id}.p\", 'wb') as f:\n",
    "    pickle.dump(pickled_posts, f)\n"
>>>>>>> initial commit for merge
   ]
  },
  {
   "cell_type": "code",
   "execution_count": null,
   "metadata": {},
   "outputs": [],
   "source": []
  }
 ],
 "metadata": {
  "kernelspec": {
   "display_name": "Python 3",
   "language": "python",
   "name": "python3"
  },
  "language_info": {
   "codemirror_mode": {
    "name": "ipython",
    "version": 3
   },
   "file_extension": ".py",
   "mimetype": "text/x-python",
   "name": "python",
   "nbconvert_exporter": "python",
   "pygments_lexer": "ipython3",
<<<<<<< HEAD
   "version": "3.7.4"
=======
   "version": "3.7.3"
>>>>>>> initial commit for merge
  }
 },
 "nbformat": 4,
 "nbformat_minor": 2
}
