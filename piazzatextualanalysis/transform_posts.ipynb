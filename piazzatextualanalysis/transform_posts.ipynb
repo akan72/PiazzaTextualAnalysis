{
 "cells": [
  {
   "cell_type": "code",
   "execution_count": 1,
   "metadata": {},
   "outputs": [],
   "source": [
    "import os\n",
    "import re\n",
    "import glob\n",
    "import pickle\n",
    "import pandas as pd"
   ]
  },
  {
   "cell_type": "code",
   "execution_count": 3,
   "metadata": {},
   "outputs": [
    {
     "data": {
      "text/plain": [
       "['data/posts/dupreezd@live.unc.edu_posts_jz8ejj1lawb5st.p',\n",
       " 'data/posts/dupreezd@live.unc.edu_posts_jqnyuvgzug4p3.p',\n",
       " 'data/posts/lexokan@live.unc.edu_posts_j5wwaj87hvu6af.p',\n",
       " 'data/posts/kimia@live.unc.edu_posts_iqv0bsb3p2i3ch.p',\n",
       " 'data/posts/dupreezd@live.unc.edu_posts_jkws0l0gvcr7it.p']"
      ]
     },
     "execution_count": 3,
     "metadata": {},
     "output_type": "execute_result"
    }
   ],
   "source": [
    "# Get all posts within the data directory\n",
    "posts = glob.glob('data/posts/*.p')\n",
    "posts"
   ]
  },
  {
   "cell_type": "code",
   "execution_count": 10,
   "metadata": {},
   "outputs": [
    {
     "name": "stdout",
     "output_type": "stream",
     "text": [
      "dupreezd@live.unc.edu_posts_jz8ejj1lawb5st.p\n",
      "dupreezd@live.unc.edu_posts_jqnyuvgzug4p3.p\n",
      "lexokan@live.unc.edu_posts_j5wwaj87hvu6af.p\n",
      "kimia@live.unc.edu_posts_iqv0bsb3p2i3ch.p\n",
      "dupreezd@live.unc.edu_posts_jkws0l0gvcr7it.p\n"
     ]
    }
   ],
   "source": [
    "def validate_instructor_counts(df):\n",
    "    '''\n",
    "    Confirm that a post is either tagged as `instructor` or `student` but not both.\n",
    "    '''\n",
    "    is_instructor_counts = df['is_instructor'].value_counts()\n",
    "    is_student_counts = df['is_student'].value_counts()\n",
    "\n",
    "#     assert is_student_counts[0] == is_instructor_counts[1]\n",
    "#     assert is_student_counts[1] == is_instructor_counts[0]\n",
    "    \n",
    "def num_nested_dicts(d: dict, column: str):\n",
    "    '''\n",
    "    Fuction that will send the number of nested dictionaries with a specified key back to the caller.\n",
    "    Used with len(list(.)) later on in the data pipeline.\n",
    "    '''\n",
    "    if column in d:\n",
    "        yield d['created']\n",
    "    for k in d:\n",
    "        if isinstance(d[k], list) and k == 'column':\n",
    "            for i in d[k]:\n",
    "                for j in num_nested_dicts(i):\n",
    "                    yield j\n",
    "\n",
    "# Iterate over all posts within a class\n",
    "for fp in posts:\n",
    "    # Load each post into a DataFrame and store its networkid\n",
    "    df = pd.DataFrame(pickle.load(open(fp, \"rb\")))\n",
    "    network_id = re.search(\"posts_(.*).p\", fp).group(1)\n",
    "    \n",
    "    # Compute different metrics about the class\n",
    "    df['created'] = pd.to_datetime(df['created'])\n",
    "    df['num_revisions'] = df['history'].apply(lambda x: len(x))\n",
    "    df['subject'] = df['history'].apply(lambda x: x[0]['subject'])\n",
    "    df['is_student'] = df['tags'].apply(lambda x: 'student' in x)\n",
    "    df['is_instructor'] = df['tags'].apply(lambda x: 'instructor-note' in x)\n",
    "    df['is_announcement'] = df['config'].apply(lambda x: 1 if 'is_announcement' in x else 0)\n",
    "    df['num_children'] = df['children'].apply(lambda x: len(list(num_nested_dicts(x[0], 'children'))) if len(x) > 0 else 0)\n",
    "\n",
    "    # Remove HTML from text column\n",
    "    df['text'] = df['history'].apply(lambda x: re.sub('<[^<]+?>|\\n', ' ', x[0]['content']))\n",
    "    \n",
    "    validate_instructor_counts(df)\n",
    "    \n",
    "    # Reorder the columns\n",
    "    df = df[['id', 'created', 'type', 'folders', 'tags', 'is_announcement', 'history', 'children', 'tag_good', 'is_student', 'no_answer', 'num_children', 'num_favorites', 'num_revisions', 'unique_views', 'subject','text']]\n",
    "    \n",
    "    # Pickle the transformed DataFrame and save\n",
    "    with open(f\"data/dataframes/{fp[11:]}_dataframe_{network_id}.p\", 'wb') as f:\n",
    "            pickle.dump(df, f)"
   ]
  },
  {
   "cell_type": "code",
   "execution_count": null,
   "metadata": {},
   "outputs": [],
   "source": [
    "# Remap to have the correct email in front of each "
   ]
  }
 ],
 "metadata": {
  "kernelspec": {
   "display_name": "Python 3",
   "language": "python",
   "name": "python3"
  },
  "language_info": {
   "codemirror_mode": {
    "name": "ipython",
    "version": 3
   },
   "file_extension": ".py",
   "mimetype": "text/x-python",
   "name": "python",
   "nbconvert_exporter": "python",
   "pygments_lexer": "ipython3",
   "version": "3.7.5"
  }
 },
 "nbformat": 4,
 "nbformat_minor": 2
}
