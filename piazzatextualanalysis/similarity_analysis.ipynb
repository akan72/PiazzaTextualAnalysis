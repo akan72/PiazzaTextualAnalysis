{
 "cells": [
  {
   "cell_type": "code",
   "execution_count": 1,
   "metadata": {},
   "outputs": [],
   "source": [
    "import glob\n",
    "import pickle\n",
    "import pandas as pd\n",
    "import numpy as np\n",
    "import scipy\n",
    "import nltk\n",
    "from sklearn import preprocessing\n",
    "from sklearn.feature_extraction.text import CountVectorizer\n",
    "import random\n",
    "from sklearn.decomposition import LatentDirichletAllocation \n",
    "from gensim import corpora, models, similarities\n",
    "import jieba\n",
    "import re"
   ]
  },
  {
   "cell_type": "code",
   "execution_count": 2,
   "metadata": {},
   "outputs": [
    {
     "data": {
      "text/plain": [
       "(4946, 17)"
      ]
     },
     "execution_count": 2,
     "metadata": {},
     "output_type": "execute_result"
    }
   ],
   "source": [
    "dfs = glob.glob('data/dataframes/*.p')\n",
    "frames = []\n",
    "for cdf in dfs:\n",
    "    frames.append(pd.read_pickle(cdf))\n",
    "df = pd.concat(frames)\n",
    "df = df[df.is_student == True]\n",
    "dataList = df[\"text\"].tolist()\n",
    "df.shape\n",
    "#print(dataList[4930])"
   ]
  },
  {
   "cell_type": "code",
   "execution_count": 3,
   "metadata": {},
   "outputs": [],
   "source": [
    "text = ' '.join(dataList).lower()\n",
    "text = re.sub('[^a-zA-Z]', ' ', text)\n",
    "text = re.sub(r'\\s+', ' ', text)\n",
    "\n",
    "all_sentences = nltk.sent_tokenize(text)\n",
    "all_words = [nltk.word_tokenize(sent) for sent in all_sentences]\n",
    "\n",
    "#nltk.download('stopwords')\n",
    "from nltk.corpus import stopwords\n",
    "for i in range(len(all_words)):\n",
    "    all_words[i] = [w for w in all_words[i] if w not in stopwords.words('english')]"
   ]
  },
  {
   "cell_type": "code",
   "execution_count": 6,
   "metadata": {},
   "outputs": [
    {
     "name": "stdout",
     "output_type": "stream",
     "text": [
      "keyword is similar to text4946: 0.44\n",
      "e\n"
     ]
    }
   ],
   "source": [
    "texts = dataList\n",
    "keyword = \"I don't really know how to install the junits test. it seems to be working when I added it but now it doesn't\"\n",
    "texts = [jieba.lcut(text) for text in texts]\n",
    "dictionary = corpora.Dictionary(texts)\n",
    "feature_cnt = len(dictionary.token2id)\n",
    "corpus = [dictionary.doc2bow(text) for text in texts]\n",
    "tfidf = models.TfidfModel(corpus) \n",
    "kw_vector = dictionary.doc2bow(jieba.lcut(keyword))\n",
    "index = similarities.SparseMatrixSimilarity(tfidf[corpus], num_features = feature_cnt)\n",
    "sim = index[tfidf[kw_vector]]\n",
    "mostSim = 0\n",
    "mostSimId = 0\n",
    "for i in range(len(sim)):\n",
    "    if sim[i] > mostSim:\n",
    "        mostSim = sim[i]\n",
    "        mostSimId = i+1\n",
    "print('keyword is similar to text%d: %.2f' % (i + 1, mostSim))\n",
    "print(text[mostSimId])"
   ]
  },
  {
   "cell_type": "code",
   "execution_count": null,
   "metadata": {},
   "outputs": [],
   "source": []
  }
 ],
 "metadata": {
  "kernelspec": {
   "display_name": "Python 3",
   "language": "python",
   "name": "python3"
  },
  "language_info": {
   "codemirror_mode": {
    "name": "ipython",
    "version": 3
   },
   "file_extension": ".py",
   "mimetype": "text/x-python",
   "name": "python",
   "nbconvert_exporter": "python",
   "pygments_lexer": "ipython3",
   "version": "3.7.3"
  }
 },
 "nbformat": 4,
 "nbformat_minor": 2
}
