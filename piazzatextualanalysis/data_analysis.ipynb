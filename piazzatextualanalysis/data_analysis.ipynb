{
 "cells": [
  {
   "cell_type": "markdown",
   "metadata": {},
   "source": [
    "## Questions\n",
    "\n",
    "Are students asking conceptual or appllied questions?\n",
    "Which topics are more prevalent? Where is the most confusion?\n",
    "    - Topic Modeling\n",
    "    - Run the same topic model over different intervals of time\n",
    "What do in-person interactions not already tell us? \n",
    "What are areas that need attention in student understanding? \n",
    "    - Concrete evidence of topics where students are struggling\n",
    "Probably don't look at response time\n",
    "What are people afraid of asking about? (Anonymous posts from students)\n",
    "Data:\n",
    "    - Timestamp\n",
    "    - Userid (student or instructor, throw out announcements)\n",
    "    - Question or answer? \n",
    "    - Votes (good question)\n",
    "    - Question Text\n",
    "\n",
    "    \n",
    "diff values of config?\n",
    "Check status = active\n",
    "transform to get length of upvote_ids\n",
    "\n",
    "Question or Answer? \n",
    "Num votes/good question\n",
    "where does anon equal yes"
   ]
  },
  {
   "cell_type": "code",
   "execution_count": 12,
   "metadata": {},
   "outputs": [
    {
     "ename": "ModuleNotFoundError",
     "evalue": "No module named 'matplotlib'",
     "output_type": "error",
     "traceback": [
      "\u001b[0;31m---------------------------------------------------------------------------\u001b[0m",
      "\u001b[0;31mModuleNotFoundError\u001b[0m                       Traceback (most recent call last)",
      "\u001b[0;32m<ipython-input-12-727ba24ebd45>\u001b[0m in \u001b[0;36m<module>\u001b[0;34m\u001b[0m\n\u001b[1;32m     10\u001b[0m \u001b[0;34m\u001b[0m\u001b[0m\n\u001b[1;32m     11\u001b[0m \u001b[0;32mfrom\u001b[0m \u001b[0mwordcloud\u001b[0m \u001b[0;32mimport\u001b[0m \u001b[0mWordCloud\u001b[0m\u001b[0;34m\u001b[0m\u001b[0;34m\u001b[0m\u001b[0m\n\u001b[0;32m---> 12\u001b[0;31m \u001b[0;32mimport\u001b[0m \u001b[0mmatplotlib\u001b[0m\u001b[0;34m.\u001b[0m\u001b[0mpyplot\u001b[0m \u001b[0;32mas\u001b[0m \u001b[0mplt\u001b[0m\u001b[0;34m\u001b[0m\u001b[0;34m\u001b[0m\u001b[0m\n\u001b[0m\u001b[1;32m     13\u001b[0m \u001b[0;34m\u001b[0m\u001b[0m\n\u001b[1;32m     14\u001b[0m \u001b[0;32mfrom\u001b[0m \u001b[0mIPython\u001b[0m\u001b[0;34m.\u001b[0m\u001b[0mdisplay\u001b[0m \u001b[0;32mimport\u001b[0m \u001b[0mdisplay\u001b[0m\u001b[0;34m\u001b[0m\u001b[0;34m\u001b[0m\u001b[0m\n",
      "\u001b[0;31mModuleNotFoundError\u001b[0m: No module named 'matplotlib'"
     ]
    }
   ],
   "source": [
    "import glob\n",
    "import pickle\n",
    "import pandas as pd\n",
    "import numpy as np\n",
    "import scipy\n",
    "import nltk\n",
    "import re\n",
    "import random\n",
    "from typing import Tuple\n",
    "\n",
    "from wordcloud import WordCloud\n",
    "import matplotlib.pyplot as plt\n",
    "\n",
    "from IPython.display import display\n",
    "\n",
    "from sklearn import preprocessing\n",
    "from sklearn.feature_extraction.text import CountVectorizer\n",
    "from sklearn.decomposition import LatentDirichletAllocation "
   ]
  },
  {
   "cell_type": "code",
   "execution_count": 2,
   "metadata": {},
   "outputs": [
    {
     "data": {
      "text/plain": [
       "['data/dataframes/kimia@live.unc.edu_posts_iqv0bsb3p2i3ch.p_dataframe_iqv0bsb3p2i3ch.p',\n",
       " 'data/dataframes/lexokan@live.unc.edu_posts_j5wwaj87hvu6af.p_dataframe_j5wwaj87hvu6af.p',\n",
       " 'data/dataframes/dupreezd@live.unc.edu_posts_jz8ejj1lawb5st.p_dataframe_jz8ejj1lawb5st.p',\n",
       " 'data/dataframes/dupreezd@live.unc.edu_posts_jqnyuvgzug4p3.p_dataframe_jqnyuvgzug4p3.p',\n",
       " 'data/dataframes/dupreezd@live.unc.edu_posts_jkws0l0gvcr7it.p_dataframe_jkws0l0gvcr7it.p']"
      ]
     },
     "execution_count": 2,
     "metadata": {},
     "output_type": "execute_result"
    }
   ],
   "source": [
    "dfs = glob.glob('data/dataframes/*.p')\n",
    "dfs"
   ]
  },
  {
   "cell_type": "code",
   "execution_count": 3,
   "metadata": {},
   "outputs": [],
   "source": [
    "textList = []\n",
    "\n",
    "current_df = pd.read_pickle(dfs[0])\n",
    "data_list = current_df[\"text\"].tolist()"
   ]
  },
  {
   "cell_type": "code",
   "execution_count": 4,
   "metadata": {},
   "outputs": [],
   "source": [
    "def print_topics(model, vectorizer, top_n=10): \n",
    "    for idx, topic in enumerate(model.components_):\n",
    "        print(\"Topic %d:\" % (idx))\n",
    "        print([(vectorizer.get_feature_names()[i], topic[i])\n",
    "                        for i in topic.argsort()[:-top_n - 1:-1]])\n",
    "        \n",
    "def lda_operation(dataList, num_features: int = 400, num_topics: int = 6)-> Tuple: \n",
    "    tf_vectorizer = CountVectorizer(max_df=.85, min_df=.05, max_features=num_features, stop_words='english', token_pattern=u'(?ui)\\\\b\\\\w\\w*[a-z]+\\\\w*\\\\b')\n",
    "\n",
    "    data_samples = dataList\n",
    "    \n",
    "    tf_data_samples = tf_vectorizer.fit_transform(data_samples) \n",
    "    tf_feature_names = tf_vectorizer.get_feature_names()\n",
    "\n",
    "    lda = LatentDirichletAllocation(n_components=num_topics, max_iter=100, learning_method='online', learning_offset=10.,random_state=1).fit(tf_data_samples)\n",
    "    lda.score(tf_data_samples)\n",
    "\n",
    "    return lda, tf_vectorizer\n",
    "\n",
    "output = []\n",
    "for i in range(len(dfs)):\n",
    "    current_df = pd.read_pickle(dfs[i])\n",
    "    data_list = current_df[\"text\"].tolist()\n",
    "    output.append(lda_operation(data_list))"
   ]
  },
  {
   "cell_type": "code",
   "execution_count": 5,
   "metadata": {},
   "outputs": [
    {
     "name": "stdout",
     "output_type": "stream",
     "text": [
      "Topic 0:\n",
      "[('object', 473.245826992338), ('method', 473.06988484976887), ('public', 433.8483760124484), ('avatar', 78.17749343190209), ('java', 67.36342224356085), ('string', 66.7609407612646), ('class', 55.61240920126569), ('bridgescene', 33.97343062801197), ('command', 24.778752607343893), ('say', 19.168774769040773)]\n",
      "Topic 1:\n",
      "[('assignment', 116.36858741999418), ('just', 81.97489587814879), ('make', 70.77112726254455), ('credit', 67.60467982273158), ('extra', 63.10383472932928), ('property', 62.78977386938931), ('sure', 60.82801136661284), ('class', 55.26405864488635), ('checks', 50.37584092704761), ('way', 49.36150348276771)]\n",
      "Topic 2:\n",
      "[('class', 443.9362008266993), ('classes', 214.43269222771207), ('java', 189.0131904385507), ('test', 10.569191232160623), ('method', 5.8806429289638995), ('run', 4.062676352932096), ('checks', 1.6993494406814977), ('local', 1.214139489741465), ('sure', 0.9708629715729375), ('file', 0.9310635750805801)]\n",
      "Topic 3:\n",
      "[('java', 771.9682095591827), ('run', 53.37300433293386), ('method', 53.2640368803492), ('test', 21.735663312885627), ('object', 13.801540938212874), ('string', 10.391532809560344), ('error', 7.918331585378285), ('local', 7.161449666010459), ('version', 6.603621112813477), ('objecteditor', 5.654651963614554)]\n",
      "Topic 4:\n",
      "[('questions', 259.55510701622995), ('question', 122.31327445831035), ('class', 119.45163987745049), ('code', 82.07572220704012), ('use', 49.91071836977342), ('word', 47.37434664291311), ('string', 42.96221863942186), ('just', 36.88069113876216), ('way', 36.064232631627036), ('interface', 22.677252163429646)]\n",
      "Topic 5:\n",
      "[('assignment', 114.9359281712575), ('main', 72.38720519833171), ('token', 37.73061491548286), ('string', 31.76409333636021), ('class', 29.62017291136646), ('quiz', 25.74011345689374), ('lectures', 22.78394618431824), ('praxis', 21.995989296307126), ('package', 20.4774947819027), ('time', 17.59165000419847)]\n",
      "Topic 0:\n",
      "[('does', 153.3901369493994), ('know', 116.37427864090792), ('thanks', 96.41898650335037), ('output', 62.700608288382206), ('right', 57.15083720751903), ('hi', 57.127940082724976), ('advice', 50.04893235626812), ('code', 43.398633517326026), ('problem', 41.10390299491754), ('help', 28.445473294660847)]\n",
      "Topic 1:\n",
      "[('pixel', 213.6296641285299), ('lt', 189.2618790194021), ('new', 179.5394076166483), ('int', 151.5691285851111), ('gt', 120.35651106277717), ('value', 81.88430793061266), ('pixels', 45.50493535610829), ('test', 41.20704554914694), ('picture', 27.71670480113543), ('values', 26.130423923323946)]\n",
      "Topic 2:\n",
      "[('java', 314.96031217308797), ('junit', 235.44820121260165), ('test', 145.1170820521713), ('tests', 109.80953924693155), ('error', 100.25264172249035), ('run', 80.6879683389403), ('code', 72.77877557425813), ('autograder', 43.93508906289252), ('getting', 34.25626981028614), ('method', 32.557971451916494)]\n",
      "Topic 3:\n",
      "[('assignment', 130.77256490076618), ('code', 110.09055852819623), ('just', 90.06381836795403), ('autograder', 80.86082893330706), ('grade', 75.39883467358264), ('kmp', 73.29561401451352), ('ve', 61.39166361406289), ('array', 55.59586704601049), ('time', 55.0596674394579), ('using', 51.28343627043133)]\n",
      "Topic 4:\n",
      "[('office', 120.52761894559404), ('hours', 117.46284276892716), ('today', 53.945178528659056), ('make', 50.398123746933486), ('help', 33.877566296659666), ('class', 20.386177656096628), ('time', 10.54921384758168), ('need', 8.178393217332507), ('work', 3.9259993756095444), ('assignment', 3.728481910780767)]\n",
      "Topic 5:\n",
      "[('picture', 227.3045686975529), ('method', 167.57828046595674), ('class', 146.01328768953752), ('public', 121.58321512443072), ('methods', 89.31734844374644), ('new', 79.05362724298693), ('return', 66.74813669610752), ('supposed', 57.687515056850515), ('object', 48.9810137578998), ('just', 42.285670690684015)]\n",
      "Topic 0:\n",
      "[('adept', 60.13958644411851), ('tests', 60.05468476273015), ('test', 58.68170201658969), ('code', 58.03690313522342), ('did', 42.136664870603546), ('wrong', 38.737054286725225), ('time', 33.09031043357273), ('work', 29.973544001855643), ('novice', 29.370244663494436), ('getting', 28.76809126815327)]\n",
      "Topic 1:\n",
      "[('java', 84.84079088511086), ('junit', 73.92343540262512), ('test', 71.70774817814798), ('null', 53.04897762543567), ('thanks', 42.9861913407564), ('just', 28.130644187521632), ('use', 26.57056450883644), ('jedi', 18.898692021628477), ('novice', 18.626942883783613), ('tests', 18.40719408609545)]\n",
      "Topic 2:\n",
      "[('method', 85.11427950850172), ('need', 39.27041700360769), ('return', 35.78295486684332), ('supposed', 30.118579387019345), ('don', 14.040920104051603), ('true', 13.004881330563228), ('code', 12.949617094009735), ('value', 11.729969949090687), ('just', 10.7464368884595), ('right', 7.812034680837819)]\n",
      "Topic 3:\n",
      "[('class', 95.68650266752584), ('question', 42.16851887304281), ('midterm', 35.325013987733236), ('using', 33.2100865786298), ('methods', 28.990944772971144), ('true', 28.555166203276656), ('ve', 27.707637218780818), ('object', 24.66553184891242), ('problem', 22.577092699108444), ('array', 21.86167446041881)]\n",
      "Topic 4:\n",
      "[('know', 75.55616144789687), ('does', 73.24261768225175), ('code', 72.8101081246975), ('gradescope', 72.36053173339931), ('assignment', 58.77442783579227), ('error', 49.80258359359718), ('run', 44.580695235253565), ('eclipse', 35.172458530313904), ('trying', 34.77013002740497), ('don', 22.266352105320944)]\n",
      "Topic 5:\n",
      "[('new', 68.12262049125574), ('driver', 56.567880982583304), ('pixel', 49.694098188385716), ('array', 42.89663629076563), ('picture', 42.00686491491275), ('make', 27.528620709652202), ('help', 17.244630242923098), ('object', 17.237652555277545), ('code', 15.208598829939469), ('sure', 11.136543018424543)]\n",
      "Topic 0:\n",
      "[('code', 163.0226248409546), ('does', 92.0224349625026), ('says', 45.03740439070571), ('know', 43.86607820083073), ('fix', 37.56769320155156), ('style', 34.61859890886204), ('got', 32.06976153912225), ('assignment', 22.403351701454895), ('gradescope', 21.143130212754244), ('just', 20.54247121860383)]\n",
      "Topic 1:\n",
      "[('just', 56.57160353898975), ('use', 45.34344201678034), ('assignment', 43.98942839946294), ('add', 42.38604331106967), ('way', 39.47331940569043), ('make', 34.651827235180875), ('thanks', 34.59587520105198), ('like', 15.277257693059747), ('work', 7.571990343967804), ('says', 6.389175585119679)]\n",
      "Topic 2:\n",
      "[('class', 86.07759705347009), ('question', 42.38741882454909), ('exam', 36.07779595671253), ('final', 34.18843000160296), ('time', 16.384780888720243), ('says', 12.48706059788969), ('don', 10.717838315678193), ('new', 7.462206238618861), ('got', 7.367365327000634), ('know', 7.260775627661054)]\n",
      "Topic 3:\n",
      "[('plate', 87.04815977521892), ('belt', 49.19654226042507), ('gradescope', 19.739188449144567), ('know', 10.654694426358288), ('new', 8.754808285875544), ('don', 6.126672834095881), ('just', 5.3380391406657655), ('does', 2.421022650526552), ('wrong', 1.7528104382439844), ('got', 1.6317311876450695)]\n",
      "Topic 4:\n",
      "[('test', 75.8868153689437), ('error', 65.4890982096446), ('tests', 55.53742848503744), ('ve', 37.20778058386458), ('autograder', 33.738471151883026), ('like', 31.56272458209445), ('new', 28.86965388990857), ('need', 20.495018816662274), ('know', 18.06261381443706), ('don', 15.56979384115163)]\n",
      "Topic 5:\n",
      "[('method', 88.31941013115791), ('array', 46.138651502654206), ('confused', 43.54640677471517), ('methods', 34.682568441889906), ('class', 30.329124596673875), ('using', 28.559505691728003), ('know', 16.755198418594844), ('new', 13.34717813349377), ('use', 13.02640601278467), ('like', 10.078151985533829)]\n",
      "Topic 0:\n",
      "[('checks', 24.64016224336397), ('local', 21.274592126305688), ('server', 20.731664667399976), ('case', 16.076190007087472), ('test', 15.500389237178892), ('grading', 15.327608930698425), ('getting', 15.305040841886601), ('grader', 14.367759717401704), ('error', 13.648557636079458), ('code', 12.178659977317404)]\n",
      "Topic 1:\n",
      "[('object', 27.707592114733174), ('scene', 20.646097873929836), ('method', 16.384359271078246), ('use', 13.446687737761513), ('using', 13.08815112028715), ('assignment', 10.252184048744866), ('does', 8.030117781580396), ('says', 7.521995290867807), ('need', 5.521610493488689), ('ve', 5.499908367961461)]\n",
      "Topic 2:\n",
      "[('question', 40.35444778193137), ('answer', 25.790577875841024), ('class', 23.920641882300686), ('exam', 22.796517036678075), ('points', 19.2714617893279), ('assignment', 19.169486618055128), ('time', 11.946454819559124), ('does', 10.21618356151055), ('quiz', 8.819603762741275), ('mean', 8.5649353004246)]\n",
      "Topic 3:\n",
      "[('sure', 29.147052504037408), ('sakai', 25.15057283862845), ('credit', 22.41503880486949), ('extra', 19.880168205875652), ('assignments', 15.697126661476707), ('make', 14.030760467387278), ('students', 12.71607992432328), ('good', 10.754313756000812), ('time', 10.496554457974428), ('exam', 10.121065614013842)]\n",
      "Topic 4:\n",
      "[('office', 40.78520726691263), ('hours', 32.64436170998429), ('today', 16.505052413205433), ('thanks', 3.4024479295063563), ('make', 2.139029630207099), ('grading', 2.132157061065373), ('need', 2.1170037596345126), ('using', 2.0069884208496656), ('work', 1.792379234575706), ('able', 1.5979015085446522)]\n",
      "Topic 5:\n",
      "[('class', 65.44190204307445), ('know', 27.991289760348966), ('assignment', 23.794484982916625), ('don', 17.34016132320637), ('just', 14.501582984226003), ('main', 14.458291521032335), ('does', 13.752829151178465), ('used', 12.997205313037464), ('java', 11.916654737146692), ('use', 10.263615799990056)]\n"
     ]
    }
   ],
   "source": [
    "for lda_output in output:\n",
    "    print_topics(*lda_output)"
   ]
  },
  {
   "cell_type": "code",
   "execution_count": 8,
   "metadata": {},
   "outputs": [
    {
     "name": "stdout",
     "output_type": "stream",
     "text": [
      "<class 'str'>\n"
     ]
    }
   ],
   "source": [
    "from functools import reduce \n",
    "\n",
    "# current_df = pd.read_pickle(dfs[0])\n",
    "# data_list = current_df[\"text\"].tolist()\n",
    "\n",
    "# re.sub('(?ui)\\\\b\\\\w\\w*[a-z]+\\\\w*\\\\b', '', ...)\n",
    "\n",
    "all_text = [''.join(pd.read_pickle(df)[\"text\"].tolist()) for df in dfs]\n",
    "all_text = [re.sub(r'(?ui)\\\\b\\\\w\\w*[a-z]+\\\\w*\\\\b', '', text) for text in all_text]\n",
    "print(type(all_text[0]))"
   ]
  },
  {
   "cell_type": "code",
   "execution_count": 11,
   "metadata": {},
   "outputs": [
    {
     "ename": "ModuleNotFoundError",
     "evalue": "No module named 'matplotlib'",
     "output_type": "error",
     "traceback": [
      "\u001b[0;31m---------------------------------------------------------------------------\u001b[0m",
      "\u001b[0;31mModuleNotFoundError\u001b[0m                       Traceback (most recent call last)",
      "\u001b[0;32m<ipython-input-11-f00d0056c8bd>\u001b[0m in \u001b[0;36m<module>\u001b[0;34m\u001b[0m\n\u001b[1;32m      1\u001b[0m \u001b[0;32mfrom\u001b[0m \u001b[0mwordcloud\u001b[0m \u001b[0;32mimport\u001b[0m \u001b[0mWordCloud\u001b[0m\u001b[0;34m\u001b[0m\u001b[0;34m\u001b[0m\u001b[0m\n\u001b[0;32m----> 2\u001b[0;31m \u001b[0;32mimport\u001b[0m \u001b[0mmatplotlib\u001b[0m\u001b[0;34m.\u001b[0m\u001b[0mpyplot\u001b[0m \u001b[0;32mas\u001b[0m \u001b[0mplt\u001b[0m\u001b[0;34m\u001b[0m\u001b[0;34m\u001b[0m\u001b[0m\n\u001b[0m\u001b[1;32m      3\u001b[0m \u001b[0;31m# TODO: Word clouds\u001b[0m\u001b[0;34m\u001b[0m\u001b[0;34m\u001b[0m\u001b[0;34m\u001b[0m\u001b[0m\n\u001b[1;32m      4\u001b[0m \u001b[0;31m# Take all dataframe text, sub out weird stuff, and then add to one big string\u001b[0m\u001b[0;34m\u001b[0m\u001b[0;34m\u001b[0m\u001b[0;34m\u001b[0m\u001b[0m\n\u001b[1;32m      5\u001b[0m \u001b[0;31m# Use map reduce\u001b[0m\u001b[0;34m\u001b[0m\u001b[0;34m\u001b[0m\u001b[0;34m\u001b[0m\u001b[0m\n",
      "\u001b[0;31mModuleNotFoundError\u001b[0m: No module named 'matplotlib'"
     ]
    }
   ],
   "source": [
    "\n",
    "# TODO: Word clouds \n",
    "# Take all dataframe text, sub out weird stuff, and then add to one big string\n",
    "# Use map reduce\n",
    "wordcloud = WordCloud(background_color=\"white\", max_words=20, contour_width=3, contour_color='steelblue')\n",
    "# Generate a word cloud\n",
    "wordcloud.generate(all_text[0])\n",
    "# Visualize the word cloud\n",
    "wordcloud.to_image()"
   ]
  },
  {
   "cell_type": "code",
   "execution_count": null,
   "metadata": {},
   "outputs": [],
   "source": [
    "# TODO: Distribution of document word counts "
   ]
  }
 ],
 "metadata": {
  "kernelspec": {
   "display_name": "Python 3",
   "language": "python",
   "name": "python3"
  },
  "language_info": {
   "codemirror_mode": {
    "name": "ipython",
    "version": 3
   },
   "file_extension": ".py",
   "mimetype": "text/x-python",
   "name": "python",
   "nbconvert_exporter": "python",
   "pygments_lexer": "ipython3",
   "version": "3.7.5"
  }
 },
 "nbformat": 4,
 "nbformat_minor": 2
}
