{
 "cells": [
  {
   "cell_type": "code",
   "execution_count": null,
   "metadata": {},
   "outputs": [],
   "source": [
    "## Questions\n",
    "\n",
    "Are students asking conceptual or appllied questions?\n",
    "Which topics are more prevalent? Where is the most confusion?\n",
    "    - Topic Modeling\n",
    "    - Run the same topic model over different intervals of time\n",
    "What do in-person interactions not already tell us? \n",
    "What are areas that need attention in student understanding? \n",
    "    - Concrete evidence of topics where students are struggling\n",
    "Probably don't look at response time\n",
    "What are people afraid of asking about? (Anonymous posts from students)\n",
    "Data:\n",
    "    - Timestamp\n",
    "    - Userid (student or instructor, throw out announcements)\n",
    "    - Question or answer? \n",
    "    - Votes (good question)\n",
    "    - Question Text\n",
    "    \n",
    "    \n",
    "diff values of config?\n",
    "Check status = active\n",
    "transform to get length of upvote_ids\n",
    "\n",
    "Question or Answer? \n",
    "Num votes/good question\n",
    "where does anon equal yes"
   ]
  },
  {
   "cell_type": "code",
   "execution_count": 9,
   "metadata": {},
   "outputs": [],
   "source": [
    "import glob\n",
    "import pickle\n",
    "import pandas as pd\n",
    "import numpy as np\n",
    "import scipy\n",
    "import nltk\n",
    "from sklearn import preprocessing\n",
    "from sklearn.feature_extraction.text import CountVectorizer\n",
    "import random\n",
    "from sklearn.decomposition import LatentDirichletAllocation "
   ]
  },
  {
   "cell_type": "code",
   "execution_count": 12,
   "metadata": {},
   "outputs": [
    {
     "name": "stdout",
     "output_type": "stream",
     "text": [
      "data/dataframes/dupreezd@live.unc.edu_dataframe_jqnyuvgzug4p3.p\n"
     ]
    }
   ],
   "source": [
    "dfs = glob.glob('data/dataframes/*.p')\n",
    "print(dfs[0])"
   ]
  },
  {
   "cell_type": "code",
   "execution_count": 43,
   "metadata": {},
   "outputs": [],
   "source": [
    "textList = []\n",
    "\n",
    "currentDf = pd.read_pickle(dfs[0])\n",
    "dataList = currentDf[\"text\"].tolist()"
   ]
  },
  {
   "cell_type": "code",
   "execution_count": 46,
   "metadata": {},
   "outputs": [
    {
     "name": "stdout",
     "output_type": "stream",
     "text": [
      "Topic 0:\n",
      "[('plate', 87.00745094011731), ('belt', 49.163002032551866), ('confused', 28.208100470992996), ('just', 10.260631982373974), ('new', 9.920720420340977), ('make', 7.061587975566526), ('test', 4.5797013740199315), ('tests', 3.9654110597203482), ('using', 3.427831039315762), ('need', 2.499483387204128)]\n",
      "Topic 1:\n",
      "[('class', 114.05560057059677), ('thanks', 64.74016549842209), ('use', 52.45273890430587), ('method', 17.88075692522166), ('question', 17.060548639287344), ('does', 10.35545606384314), ('code', 8.305041926607721), ('ve', 5.207713928916645), ('methods', 1.587019394377659), ('just', 0.12562857112502526)]\n",
      "Topic 2:\n",
      "[('method', 70.5241352161935), ('error', 65.27653901522619), ('array', 46.09839629835943), ('make', 31.429529519772984), ('way', 23.729902753468085), ('methods', 21.85434272209644), ('know', 12.854469756260118), ('like', 12.300179867708428), ('does', 11.884448620679983), ('using', 10.34526341877031)]\n",
      "Topic 3:\n",
      "[('know', 58.05222633242193), ('does', 49.39487824038585), ('time', 36.59680178023013), ('exam', 36.036645265162356), ('final', 34.148274425233566), ('question', 25.41134859516323), ('got', 15.360862791340944), ('work', 14.410504121494982), ('code', 11.932619575513913), ('need', 11.090981290482034)]\n",
      "Topic 4:\n",
      "[('assignment', 66.18572135351779), ('new', 42.955447669960854), ('add', 40.65041206272483), ('got', 25.45997875502287), ('code', 22.493833040357096), ('work', 6.317776886108038), ('make', 4.650446693386068), ('a8', 3.2500126684838935), ('way', 1.5125116687869329), ('autograder', 1.4330331109622285)]\n",
      "Topic 5:\n",
      "[('34', 218.12644033669375), ('says', 51.595359277080576), ('does', 21.452486805342154), ('using', 19.533964874257745), ('code', 17.362061803665696), ('39', 12.13415085751038), ('just', 11.621408004654496), ('fix', 11.59210011915974), ('methods', 11.449569364215133), ('way', 8.091704808219212)]\n",
      "Topic 6:\n",
      "[('39', 338.8754944568883), ('ve', 36.738979157140875), ('don', 32.03948545792843), ('like', 30.982789978819486), ('know', 25.307358032450754), ('autograder', 18.362052157182873), ('just', 18.361476570294048), ('confused', 15.422624006548405), ('work', 11.680295387620399), ('code', 9.787499847831063)]\n",
      "Topic 7:\n",
      "[('code', 97.26126586915034), ('test', 67.06699461366132), ('tests', 45.32495238036009), ('gradescope', 40.683675324916656), ('just', 37.89025629091339), ('a7', 36.20952346864217), ('style', 34.5782499892549), ('a8', 24.14159301993493), ('autograder', 19.668072718552637), ('wrong', 12.17358116835174)]\n"
     ]
    }
   ],
   "source": [
    "from IPython.display import display\n",
    "def print_topics(model, vectorizer, top_n=10): \n",
    "    for idx, topic in enumerate(model.components_):\n",
    "        print(\"Topic %d:\" % (idx))\n",
    "        print([(vectorizer.get_feature_names()[i], topic[i])\n",
    "                        for i in topic.argsort()[:-top_n - 1:-1]])\n",
    "\n",
    "num_features = 200\n",
    "tf_vectorizer = CountVectorizer(max_df=.95, min_df=.05, max_features=num_features, stop_words='english')\n",
    "\n",
    "ldaList = []\n",
    "\n",
    "data_samples = dataList\n",
    "tf_data_samples = tf_vectorizer.fit_transform(data_samples) \n",
    "tf_feature_names = tf_vectorizer.get_feature_names()\n",
    "\n",
    "num_topics = 8\n",
    "lda = LatentDirichletAllocation(n_components=num_topics, max_iter=100, learning_method='online', learning_offset=10.,random_state=1).fit(tf_data_samples)\n",
    "lda.score(tf_data_samples)\n",
    "\n",
    "ldaList.append(lda)\n",
    "\n",
    "print_topics(lda,tf_vectorizer)"
   ]
  },
  {
   "cell_type": "code",
   "execution_count": null,
   "metadata": {},
   "outputs": [],
   "source": []
  }
 ],
 "metadata": {
  "kernelspec": {
   "display_name": "Python 3",
   "language": "python",
   "name": "python3"
  },
  "language_info": {
   "codemirror_mode": {
    "name": "ipython",
    "version": 3
   },
   "file_extension": ".py",
   "mimetype": "text/x-python",
   "name": "python",
   "nbconvert_exporter": "python",
   "pygments_lexer": "ipython3",
   "version": "3.7.4"
  }
 },
 "nbformat": 4,
 "nbformat_minor": 2
}
