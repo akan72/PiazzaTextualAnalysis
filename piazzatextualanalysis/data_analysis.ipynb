{
 "cells": [
  {
   "cell_type": "code",
   "execution_count": 7,
   "metadata": {},
   "outputs": [
    {
     "ename": "IndentationError",
     "evalue": "unexpected indent (<ipython-input-7-3815f359c888>, line 5)",
     "output_type": "error",
     "traceback": [
      "\u001b[0;36m  File \u001b[0;32m\"<ipython-input-7-3815f359c888>\"\u001b[0;36m, line \u001b[0;32m5\u001b[0m\n\u001b[0;31m    - Topic Modeling\u001b[0m\n\u001b[0m    ^\u001b[0m\n\u001b[0;31mIndentationError\u001b[0m\u001b[0;31m:\u001b[0m unexpected indent\n"
     ]
    }
   ],
   "source": [
    "## Questions\n",
    "\n",
    "Are students asking conceptual or appllied questions?\n",
    "Which topics are more prevalent? Where is the most confusion?\n",
    "    - Topic Modeling\n",
    "    - Run the same topic model over different intervals of time\n",
    "What do in-person interactions not already tell us? \n",
    "What are areas that need attention in student understanding? \n",
    "    - Concrete evidence of topics where students are struggling\n",
    "Probably don't look at response time\n",
    "What are people afraid of asking about? (Anonymous posts from students)\n",
    "Data:\n",
    "    - Timestamp\n",
    "    - Userid (student or instructor, throw out announcements)\n",
    "    - Question or answer? \n",
    "    - Votes (good question)\n",
    "    - Question Text\n",
    "\n",
    "    \n",
    "diff values of config?\n",
    "Check status = active\n",
    "transform to get length of upvote_ids\n",
    "\n",
    "Question or Answer? \n",
    "Num votes/good question\n",
    "where does anon equal yes"
   ]
  },
  {
   "cell_type": "code",
   "execution_count": 1,
   "metadata": {},
   "outputs": [],
   "source": [
    "import glob\n",
    "import pickle\n",
    "import pandas as pd\n",
    "import numpy as np\n",
    "import scipy\n",
    "import nltk\n",
    "from sklearn import preprocessing\n",
    "from sklearn.feature_extraction.text import CountVectorizer\n",
    "import random\n",
    "from sklearn.decomposition import LatentDirichletAllocation "
   ]
  },
  {
   "cell_type": "code",
   "execution_count": 2,
   "metadata": {},
   "outputs": [
    {
     "name": "stdout",
     "output_type": "stream",
     "text": [
      "data/dataframes/kimia@live.unc.edu_dataframe_jkws0l0gvcr7it.p\n"
     ]
    }
   ],
   "source": [
    "dfs = glob.glob('data/dataframes/*.p')\n",
    "print(dfs[0])"
   ]
  },
  {
   "cell_type": "code",
   "execution_count": 3,
   "metadata": {},
   "outputs": [],
   "source": [
    "textList = []\n",
    "\n",
    "currentDf = pd.read_pickle(dfs[0])\n",
    "dataList = currentDf[\"text\"].tolist()"
   ]
  },
  {
   "cell_type": "code",
   "execution_count": 21,
   "metadata": {},
   "outputs": [
    {
     "name": "stdout",
     "output_type": "stream",
     "text": [
      "Topic 0:\n",
      "[('local', 12.8595095007747), ('checks', 9.991113394924758), ('s', 8.967966017290717), ('t', 8.274732618481714), ('work', 5.370342900381665), ('time', 5.286301646155675), ('check', 5.118068369539516), ('questions', 5.05943331314642), ('grader', 4.404751561057487), ('sure', 4.3634934549014215)]\n",
      "Topic 1:\n",
      "[('class', 35.09672914055233), ('t', 35.00374130169224), ('assignment', 17.94454387894138), ('getting', 17.20939808702263), ('don', 17.19033861220287), ('server', 17.15230354430696), ('m', 17.021438608015675), ('test', 17.013806146053092), ('grading', 16.05940882953443), ('method', 15.86109092926796)]\n",
      "Topic 2:\n",
      "[('class', 43.344777277799274), ('exam', 32.752105805505074), ('credit', 21.582961672054786), ('extra', 19.88113933285889), ('make', 16.065618336085805), ('points', 14.240048900734557), ('sure', 14.084952795895628), ('time', 14.046774475734525), ('prasun', 13.959048217643337), ('know', 13.143541548703384)]\n",
      "Topic 3:\n",
      "[('assignment', 29.724527654659028), ('s', 21.94262019746257), ('object', 20.725869232380788), ('scene', 20.64574479363793), ('use', 20.564539640935735), ('sakai', 20.313161556474263), ('like', 14.165169047889977), ('t', 11.763968199470476), ('grader', 10.756930828789173), ('does', 10.180198518219552)]\n",
      "Topic 4:\n",
      "[('assignment', 12.572769475260108), ('instead', 11.0748801832111), ('m', 10.963447635958047), ('sure', 10.920234375025318), ('make', 8.667401534883478), ('thanks', 8.404052301321494), ('code', 7.524208498850178), ('says', 7.296859214611734), ('object', 6.897787575596839), ('time', 6.862036561035911)]\n",
      "Topic 5:\n",
      "[('question', 40.34749257446955), ('office', 37.75505126992195), ('hours', 30.79177290585106), ('answer', 18.364532001539448), ('today', 11.827563546189092), ('quiz', 11.14342754447332), ('does', 10.063636076295339), ('class', 8.608481845325313), ('method', 8.474725506852083), ('using', 8.117878693284473)]\n"
     ]
    }
   ],
   "source": [
    "from IPython.display import display\n",
    "def print_topics(model, vectorizer, top_n=10): \n",
    "    for idx, topic in enumerate(model.components_):\n",
    "        print(\"Topic %d:\" % (idx))\n",
    "        print([(vectorizer.get_feature_names()[i], topic[i])\n",
    "                        for i in topic.argsort()[:-top_n - 1:-1]])\n",
    "\n",
    "num_features = 400\n",
    "tf_vectorizer = CountVectorizer(max_df=.85, min_df=.05, max_features=num_features, stop_words='english', token_pattern=u'(?ui)\\\\b\\\\w\\w*[a-z]+\\\\w*\\\\b')\n",
    "\n",
    "ldaList = []\n",
    "\n",
    "data_samples = dataList\n",
    "tf_data_samples = tf_vectorizer.fit_transform(data_samples) \n",
    "tf_feature_names = tf_vectorizer.get_feature_names()\n",
    "\n",
    "num_topics = 6\n",
    "lda = LatentDirichletAllocation(n_components=num_topics, max_iter=100, learning_method='online', learning_offset=10.,random_state=1).fit(tf_data_samples)\n",
    "lda.score(tf_data_samples)\n",
    "\n",
    "ldaList.append(lda)\n",
    "\n",
    "print_topics(lda,tf_vectorizer)"
   ]
  },
  {
   "cell_type": "code",
   "execution_count": null,
   "metadata": {},
   "outputs": [],
   "source": []
  }
 ],
 "metadata": {
  "kernelspec": {
   "display_name": "Python 3",
   "language": "python",
   "name": "python3"
  },
  "language_info": {
   "codemirror_mode": {
    "name": "ipython",
    "version": 3
   },
   "file_extension": ".py",
   "mimetype": "text/x-python",
   "name": "python",
   "nbconvert_exporter": "python",
   "pygments_lexer": "ipython3",
   "version": "3.7.3"
  }
 },
 "nbformat": 4,
 "nbformat_minor": 2
}
