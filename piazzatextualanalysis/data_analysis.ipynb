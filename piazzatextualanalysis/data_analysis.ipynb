{
 "cells": [
  {
   "cell_type": "code",
   "execution_count": 7,
   "metadata": {},
   "outputs": [
    {
     "ename": "IndentationError",
     "evalue": "unexpected indent (<ipython-input-7-3815f359c888>, line 5)",
     "output_type": "error",
     "traceback": [
      "\u001b[0;36m  File \u001b[0;32m\"<ipython-input-7-3815f359c888>\"\u001b[0;36m, line \u001b[0;32m5\u001b[0m\n\u001b[0;31m    - Topic Modeling\u001b[0m\n\u001b[0m    ^\u001b[0m\n\u001b[0;31mIndentationError\u001b[0m\u001b[0;31m:\u001b[0m unexpected indent\n"
     ]
    }
   ],
   "source": [
    "## Questions\n",
    "\n",
    "Are students asking conceptual or appllied questions?\n",
    "Which topics are more prevalent? Where is the most confusion?\n",
    "    - Topic Modeling\n",
    "    - Run the same topic model over different intervals of time\n",
    "What do in-person interactions not already tell us? \n",
    "What are areas that need attention in student understanding? \n",
    "    - Concrete evidence of topics where students are struggling\n",
    "Probably don't look at response time\n",
    "What are people afraid of asking about? (Anonymous posts from students)\n",
    "Data:\n",
    "    - Timestamp\n",
    "    - Userid (student or instructor, throw out announcements)\n",
    "    - Question or answer? \n",
    "    - Votes (good question)\n",
    "    - Question Text\n",
    "\n",
    "    \n",
    "diff values of config?\n",
    "Check status = active\n",
    "transform to get length of upvote_ids\n",
    "\n",
    "Question or Answer? \n",
    "Num votes/good question\n",
    "where does anon equal yes"
   ]
  },
  {
   "cell_type": "code",
   "execution_count": 1,
   "metadata": {},
   "outputs": [],
   "source": [
    "import glob\n",
    "import pickle\n",
    "import pandas as pd\n",
    "import numpy as np\n",
    "import scipy\n",
    "import nltk\n",
    "from sklearn import preprocessing\n",
    "from sklearn.feature_extraction.text import CountVectorizer\n",
    "import random\n",
    "from sklearn.decomposition import LatentDirichletAllocation "
   ]
  },
  {
   "cell_type": "code",
   "execution_count": 2,
   "metadata": {},
   "outputs": [
    {
     "name": "stdout",
     "output_type": "stream",
     "text": [
      "data/dataframes/kimia@live.unc.edu_dataframe_jkws0l0gvcr7it.p\n"
     ]
    }
   ],
   "source": [
    "dfs = glob.glob('data/dataframes/*.p')\n",
    "print(dfs[0])"
   ]
  },
  {
   "cell_type": "code",
   "execution_count": 3,
   "metadata": {},
   "outputs": [],
   "source": [
    "textList = []\n",
    "\n",
    "currentDf = pd.read_pickle(dfs[0])\n",
    "dataList = currentDf[\"text\"].tolist()"
   ]
  },
  {
   "cell_type": "code",
   "execution_count": 14,
   "metadata": {},
   "outputs": [
    {
     "name": "stdout",
     "output_type": "stream",
     "text": [
      "Topic 0:\n",
      "[('like', 16.34218838487797), ('object', 15.13275560514394), ('check', 14.99791378579567), ('s', 13.223450285635797), ('checks', 12.193297837397234), ('grader', 11.753173832076184), ('local', 10.82560006329022), ('case', 6.628212713501144), ('make', 6.446693004270389), ('t', 5.346194024108596)]\n",
      "Topic 1:\n",
      "[('assignment', 42.26019797993117), ('t', 41.25206303777417), ('class', 35.99606398574008), ('grading', 25.10897446914561), ('server', 20.910158350020573), ('know', 18.724290367296224), ('just', 18.653786590974434), ('getting', 18.601759101185813), ('don', 17.997349358196836), ('m', 17.771090630548436)]\n",
      "Topic 2:\n",
      "[('class', 54.14108247646378), ('question', 40.42864412502363), ('exam', 32.83317341317718), ('answer', 25.87637366413673), ('credit', 21.116663989983643), ('time', 20.17150453661412), ('extra', 19.937168928183866), ('sure', 17.540012900744713), ('make', 17.30222489989448), ('students', 16.249039014417697)]\n",
      "Topic 3:\n",
      "[('office', 37.22981880704821), ('hours', 32.204398003843146), ('scene', 19.377146888745294), ('assignment', 18.79102069560174), ('use', 18.5377333723166), ('says', 18.259213761260547), ('m', 18.017844412805594), ('s', 17.842915096594204), ('object', 15.602153350773353), ('today', 14.983948218078355)]\n"
     ]
    }
   ],
   "source": [
    "from IPython.display import display\n",
    "def print_topics(model, vectorizer, top_n=10): \n",
    "    for idx, topic in enumerate(model.components_):\n",
    "        print(\"Topic %d:\" % (idx))\n",
    "        print([(vectorizer.get_feature_names()[i], topic[i])\n",
    "                        for i in topic.argsort()[:-top_n - 1:-1]])\n",
    "\n",
    "num_features = 400\n",
    "tf_vectorizer = CountVectorizer(max_df=.85, min_df=.05, max_features=num_features, stop_words='english', token_pattern=u'(?ui)\\\\b\\\\w*[a-z]+\\\\w*\\\\b')\n",
    "\n",
    "ldaList = []\n",
    "\n",
    "data_samples = dataList\n",
    "tf_data_samples = tf_vectorizer.fit_transform(data_samples) \n",
    "tf_feature_names = tf_vectorizer.get_feature_names()\n",
    "\n",
    "num_topics = 4\n",
    "lda = LatentDirichletAllocation(n_components=num_topics, max_iter=100, learning_method='online', learning_offset=10.,random_state=1).fit(tf_data_samples)\n",
    "lda.score(tf_data_samples)\n",
    "\n",
    "ldaList.append(lda)\n",
    "\n",
    "print_topics(lda,tf_vectorizer)"
   ]
  },
  {
   "cell_type": "code",
   "execution_count": null,
   "metadata": {},
   "outputs": [],
   "source": []
  }
 ],
 "metadata": {
  "kernelspec": {
   "display_name": "Python 3",
   "language": "python",
   "name": "python3"
  },
  "language_info": {
   "codemirror_mode": {
    "name": "ipython",
    "version": 3
   },
   "file_extension": ".py",
   "mimetype": "text/x-python",
   "name": "python",
   "nbconvert_exporter": "python",
   "pygments_lexer": "ipython3",
   "version": "3.7.3"
  }
 },
 "nbformat": 4,
 "nbformat_minor": 2
}
